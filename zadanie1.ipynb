{
 "cells": [
  {
   "cell_type": "markdown",
   "id": "e59d9cff",
   "metadata": {},
   "source": [
    "# IAU Projekt 1"
   ]
  },
  {
   "cell_type": "code",
   "execution_count": 26,
   "id": "bbc08259",
   "metadata": {},
   "outputs": [],
   "source": [
    "import matplotlib.pyplot as plt\n",
    "import seaborn as sns\n",
    "import pandas as pd\n",
    "import numpy as np\n",
    "import matplotlib as mat"
   ]
  },
  {
   "cell_type": "markdown",
   "id": "a3e7d7ca",
   "metadata": {},
   "source": [
    "# Načítanie údajov z datasetov"
   ]
  },
  {
   "cell_type": "code",
   "execution_count": 27,
   "id": "fdb9d80a",
   "metadata": {
    "scrolled": true
   },
   "outputs": [
    {
     "data": {
      "text/html": [
       "<div>\n",
       "<style scoped>\n",
       "    .dataframe tbody tr th:only-of-type {\n",
       "        vertical-align: middle;\n",
       "    }\n",
       "\n",
       "    .dataframe tbody tr th {\n",
       "        vertical-align: top;\n",
       "    }\n",
       "\n",
       "    .dataframe thead th {\n",
       "        text-align: right;\n",
       "    }\n",
       "</style>\n",
       "<table border=\"1\" class=\"dataframe\">\n",
       "  <thead>\n",
       "    <tr style=\"text-align: right;\">\n",
       "      <th></th>\n",
       "      <th>username</th>\n",
       "      <th>residence</th>\n",
       "      <th>mail</th>\n",
       "      <th>registration</th>\n",
       "      <th>name</th>\n",
       "      <th>race</th>\n",
       "      <th>user_id</th>\n",
       "      <th>job</th>\n",
       "      <th>birthdate</th>\n",
       "      <th>sex</th>\n",
       "      <th>address</th>\n",
       "    </tr>\n",
       "  </thead>\n",
       "  <tbody>\n",
       "    <tr>\n",
       "      <th>0</th>\n",
       "      <td>elizabeth34</td>\n",
       "      <td>NaN</td>\n",
       "      <td>james67@gmail.com</td>\n",
       "      <td>10 Mar 2016</td>\n",
       "      <td>Paula Foster</td>\n",
       "      <td>black</td>\n",
       "      <td>1365</td>\n",
       "      <td>Manufacturing engineer</td>\n",
       "      <td>1982-06-29</td>\n",
       "      <td>F</td>\n",
       "      <td>USS Lara\\nFPO AE 54003</td>\n",
       "    </tr>\n",
       "    <tr>\n",
       "      <th>1</th>\n",
       "      <td>dboucsein</td>\n",
       "      <td>Dobesweg 8\\n28115 Nabburg</td>\n",
       "      <td>agnatz@yahoo.de</td>\n",
       "      <td>2019/11/05</td>\n",
       "      <td>Giesela Herrmann</td>\n",
       "      <td>black</td>\n",
       "      <td>1945</td>\n",
       "      <td>Winzer</td>\n",
       "      <td>1931-11-26</td>\n",
       "      <td>NaN</td>\n",
       "      <td>Pergandestr. 847\\n21282 Hechingen</td>\n",
       "    </tr>\n",
       "    <tr>\n",
       "      <th>2</th>\n",
       "      <td>fmoraes</td>\n",
       "      <td>Aeroporto de Oliveira, 10\\nVila Bandeirantes\\n...</td>\n",
       "      <td>eloah35@yahoo.com.br</td>\n",
       "      <td>2014-12-14</td>\n",
       "      <td>Erick Almeida</td>\n",
       "      <td>NaN</td>\n",
       "      <td>2379</td>\n",
       "      <td>NaN</td>\n",
       "      <td>NaN</td>\n",
       "      <td>M</td>\n",
       "      <td>Viaduto Rezende, 1\\nSion\\n97746-412 Azevedo / AP</td>\n",
       "    </tr>\n",
       "    <tr>\n",
       "      <th>3</th>\n",
       "      <td>chiyomatsumoto</td>\n",
       "      <td>NaN</td>\n",
       "      <td>yamashitanaoko@hotmail.com</td>\n",
       "      <td>24 Sep 2022</td>\n",
       "      <td>高橋 里佳</td>\n",
       "      <td>NaN</td>\n",
       "      <td>1058</td>\n",
       "      <td>NaN</td>\n",
       "      <td>1938-02-08</td>\n",
       "      <td>NaN</td>\n",
       "      <td>茨城県狛江市西神田8丁目26番14号 細野パレス487</td>\n",
       "    </tr>\n",
       "    <tr>\n",
       "      <th>4</th>\n",
       "      <td>joneslisa</td>\n",
       "      <td>NaN</td>\n",
       "      <td>xgreene@gmail.com</td>\n",
       "      <td>09 Jun 2021</td>\n",
       "      <td>Katherine Welch</td>\n",
       "      <td>unspecified</td>\n",
       "      <td>277</td>\n",
       "      <td>NaN</td>\n",
       "      <td>2017-08-21</td>\n",
       "      <td>F</td>\n",
       "      <td>579 Gillespie Oval Suite 885\\nNew Robertbury, ...</td>\n",
       "    </tr>\n",
       "  </tbody>\n",
       "</table>\n",
       "</div>"
      ],
      "text/plain": [
       "         username                                          residence  \\\n",
       "0     elizabeth34                                                NaN   \n",
       "1       dboucsein                          Dobesweg 8\\n28115 Nabburg   \n",
       "2         fmoraes  Aeroporto de Oliveira, 10\\nVila Bandeirantes\\n...   \n",
       "3  chiyomatsumoto                                                NaN   \n",
       "4       joneslisa                                                NaN   \n",
       "\n",
       "                         mail registration              name         race  \\\n",
       "0           james67@gmail.com  10 Mar 2016      Paula Foster        black   \n",
       "1             agnatz@yahoo.de   2019/11/05  Giesela Herrmann        black   \n",
       "2        eloah35@yahoo.com.br   2014-12-14     Erick Almeida          NaN   \n",
       "3  yamashitanaoko@hotmail.com  24 Sep 2022             高橋 里佳          NaN   \n",
       "4           xgreene@gmail.com  09 Jun 2021   Katherine Welch  unspecified   \n",
       "\n",
       "   user_id                     job   birthdate  sex  \\\n",
       "0     1365  Manufacturing engineer  1982-06-29    F   \n",
       "1     1945                  Winzer  1931-11-26  NaN   \n",
       "2     2379                     NaN         NaN    M   \n",
       "3     1058                     NaN  1938-02-08  NaN   \n",
       "4      277                     NaN  2017-08-21    F   \n",
       "\n",
       "                                             address  \n",
       "0                             USS Lara\\nFPO AE 54003  \n",
       "1                  Pergandestr. 847\\n21282 Hechingen  \n",
       "2   Viaduto Rezende, 1\\nSion\\n97746-412 Azevedo / AP  \n",
       "3                        茨城県狛江市西神田8丁目26番14号 細野パレス487  \n",
       "4  579 Gillespie Oval Suite 885\\nNew Robertbury, ...  "
      ]
     },
     "execution_count": 27,
     "metadata": {},
     "output_type": "execute_result"
    }
   ],
   "source": [
    "user = pd.read_csv(\"102/user.csv\", sep='\\t')\n",
    "user.head()"
   ]
  },
  {
   "cell_type": "code",
   "execution_count": 28,
   "id": "0da13545",
   "metadata": {},
   "outputs": [
    {
     "data": {
      "text/html": [
       "<div>\n",
       "<style scoped>\n",
       "    .dataframe tbody tr th:only-of-type {\n",
       "        vertical-align: middle;\n",
       "    }\n",
       "\n",
       "    .dataframe tbody tr th {\n",
       "        vertical-align: top;\n",
       "    }\n",
       "\n",
       "    .dataframe thead th {\n",
       "        text-align: right;\n",
       "    }\n",
       "</style>\n",
       "<table border=\"1\" class=\"dataframe\">\n",
       "  <thead>\n",
       "    <tr style=\"text-align: right;\">\n",
       "      <th></th>\n",
       "      <th>pct_input</th>\n",
       "      <th>user_id</th>\n",
       "      <th>pct_wild_mouse</th>\n",
       "      <th>pct_scroll_move</th>\n",
       "      <th>ack</th>\n",
       "      <th>screen_height</th>\n",
       "      <th>session_duration</th>\n",
       "      <th>mouse_move_total_rel_distance</th>\n",
       "      <th>pct_rage_click</th>\n",
       "      <th>total_load_time</th>\n",
       "      <th>...</th>\n",
       "      <th>pct_scrandom</th>\n",
       "      <th>page_activity_duration</th>\n",
       "      <th>scroll_move_total_rel_distance</th>\n",
       "      <th>pct_mouse_click</th>\n",
       "      <th>screen_width</th>\n",
       "      <th>browser_name</th>\n",
       "      <th>product_ean</th>\n",
       "      <th>pct_click_product_info</th>\n",
       "      <th>pct_scroll_move_duration</th>\n",
       "      <th>pct_doubleclick</th>\n",
       "    </tr>\n",
       "  </thead>\n",
       "  <tbody>\n",
       "    <tr>\n",
       "      <th>0</th>\n",
       "      <td>1.81539</td>\n",
       "      <td>928</td>\n",
       "      <td>51.96310</td>\n",
       "      <td>66.86712</td>\n",
       "      <td>1.0</td>\n",
       "      <td>1080</td>\n",
       "      <td>108.07618</td>\n",
       "      <td>6.80118</td>\n",
       "      <td>62.95682</td>\n",
       "      <td>5.13381</td>\n",
       "      <td>...</td>\n",
       "      <td>63.40202</td>\n",
       "      <td>4.38606</td>\n",
       "      <td>7.61000</td>\n",
       "      <td>9.50177</td>\n",
       "      <td>1280</td>\n",
       "      <td>chrome</td>\n",
       "      <td>4022367910514</td>\n",
       "      <td>24.46045</td>\n",
       "      <td>9.78724</td>\n",
       "      <td>7.51547</td>\n",
       "    </tr>\n",
       "    <tr>\n",
       "      <th>1</th>\n",
       "      <td>1.78966</td>\n",
       "      <td>1222</td>\n",
       "      <td>58.09658</td>\n",
       "      <td>70.34753</td>\n",
       "      <td>1.0</td>\n",
       "      <td>1024</td>\n",
       "      <td>153.26548</td>\n",
       "      <td>4.96735</td>\n",
       "      <td>67.10171</td>\n",
       "      <td>2.32757</td>\n",
       "      <td>...</td>\n",
       "      <td>53.88272</td>\n",
       "      <td>9.30753</td>\n",
       "      <td>7.12185</td>\n",
       "      <td>5.98340</td>\n",
       "      <td>lower</td>\n",
       "      <td>edge</td>\n",
       "      <td>440056328404</td>\n",
       "      <td>55.68189</td>\n",
       "      <td>6.63739</td>\n",
       "      <td>10.13968</td>\n",
       "    </tr>\n",
       "    <tr>\n",
       "      <th>2</th>\n",
       "      <td>4.18199</td>\n",
       "      <td>1993</td>\n",
       "      <td>40.36769</td>\n",
       "      <td>68.05287</td>\n",
       "      <td>1.0</td>\n",
       "      <td>1024</td>\n",
       "      <td>75.65295</td>\n",
       "      <td>6.25935</td>\n",
       "      <td>72.30186</td>\n",
       "      <td>4.33448</td>\n",
       "      <td>...</td>\n",
       "      <td>63.35319</td>\n",
       "      <td>9.82437</td>\n",
       "      <td>6.91122</td>\n",
       "      <td>5.29545</td>\n",
       "      <td>800</td>\n",
       "      <td>edge</td>\n",
       "      <td>6166025930754</td>\n",
       "      <td>66.24526</td>\n",
       "      <td>6.42593</td>\n",
       "      <td>9.61589</td>\n",
       "    </tr>\n",
       "    <tr>\n",
       "      <th>3</th>\n",
       "      <td>3.52993</td>\n",
       "      <td>1172</td>\n",
       "      <td>50.27517</td>\n",
       "      <td>61.18361</td>\n",
       "      <td>1.0</td>\n",
       "      <td>1024</td>\n",
       "      <td>126.37468</td>\n",
       "      <td>8.63384</td>\n",
       "      <td>69.46699</td>\n",
       "      <td>1.86762</td>\n",
       "      <td>...</td>\n",
       "      <td>43.99103</td>\n",
       "      <td>11.39765</td>\n",
       "      <td>6.52317</td>\n",
       "      <td>3.25632</td>\n",
       "      <td>1920</td>\n",
       "      <td>mobile</td>\n",
       "      <td>7507616379535</td>\n",
       "      <td>54.41942</td>\n",
       "      <td>7.43744</td>\n",
       "      <td>10.06378</td>\n",
       "    </tr>\n",
       "    <tr>\n",
       "      <th>4</th>\n",
       "      <td>0.80125</td>\n",
       "      <td>1310</td>\n",
       "      <td>50.71797</td>\n",
       "      <td>53.58901</td>\n",
       "      <td>0.0</td>\n",
       "      <td>800</td>\n",
       "      <td>144.89763</td>\n",
       "      <td>10.28759</td>\n",
       "      <td>63.66098</td>\n",
       "      <td>10.89872</td>\n",
       "      <td>...</td>\n",
       "      <td>47.96846</td>\n",
       "      <td>7.16321</td>\n",
       "      <td>7.52470</td>\n",
       "      <td>6.27721</td>\n",
       "      <td>1024</td>\n",
       "      <td>chrome</td>\n",
       "      <td>7734495886698</td>\n",
       "      <td>57.62510</td>\n",
       "      <td>9.29251</td>\n",
       "      <td>8.73035</td>\n",
       "    </tr>\n",
       "  </tbody>\n",
       "</table>\n",
       "<p>5 rows × 25 columns</p>\n",
       "</div>"
      ],
      "text/plain": [
       "   pct_input  user_id  pct_wild_mouse  pct_scroll_move  ack screen_height  \\\n",
       "0    1.81539      928        51.96310         66.86712  1.0          1080   \n",
       "1    1.78966     1222        58.09658         70.34753  1.0          1024   \n",
       "2    4.18199     1993        40.36769         68.05287  1.0          1024   \n",
       "3    3.52993     1172        50.27517         61.18361  1.0          1024   \n",
       "4    0.80125     1310        50.71797         53.58901  0.0           800   \n",
       "\n",
       "   session_duration  mouse_move_total_rel_distance  pct_rage_click  \\\n",
       "0         108.07618                        6.80118        62.95682   \n",
       "1         153.26548                        4.96735        67.10171   \n",
       "2          75.65295                        6.25935        72.30186   \n",
       "3         126.37468                        8.63384        69.46699   \n",
       "4         144.89763                       10.28759        63.66098   \n",
       "\n",
       "   total_load_time  ...  pct_scrandom page_activity_duration  \\\n",
       "0          5.13381  ...      63.40202                4.38606   \n",
       "1          2.32757  ...      53.88272                9.30753   \n",
       "2          4.33448  ...      63.35319                9.82437   \n",
       "3          1.86762  ...      43.99103               11.39765   \n",
       "4         10.89872  ...      47.96846                7.16321   \n",
       "\n",
       "   scroll_move_total_rel_distance  pct_mouse_click  screen_width  \\\n",
       "0                         7.61000          9.50177          1280   \n",
       "1                         7.12185          5.98340         lower   \n",
       "2                         6.91122          5.29545           800   \n",
       "3                         6.52317          3.25632          1920   \n",
       "4                         7.52470          6.27721          1024   \n",
       "\n",
       "   browser_name    product_ean  pct_click_product_info  \\\n",
       "0        chrome  4022367910514                24.46045   \n",
       "1          edge   440056328404                55.68189   \n",
       "2          edge  6166025930754                66.24526   \n",
       "3        mobile  7507616379535                54.41942   \n",
       "4        chrome  7734495886698                57.62510   \n",
       "\n",
       "   pct_scroll_move_duration pct_doubleclick  \n",
       "0                   9.78724         7.51547  \n",
       "1                   6.63739        10.13968  \n",
       "2                   6.42593         9.61589  \n",
       "3                   7.43744        10.06378  \n",
       "4                   9.29251         8.73035  \n",
       "\n",
       "[5 rows x 25 columns]"
      ]
     },
     "execution_count": 28,
     "metadata": {},
     "output_type": "execute_result"
    }
   ],
   "source": [
    "session = pd.read_csv(\"102/session.csv\", sep='\\t')\n",
    "session.head()"
   ]
  },
  {
   "cell_type": "code",
   "execution_count": 29,
   "id": "eaf25331",
   "metadata": {},
   "outputs": [
    {
     "data": {
      "text/html": [
       "<div>\n",
       "<style scoped>\n",
       "    .dataframe tbody tr th:only-of-type {\n",
       "        vertical-align: middle;\n",
       "    }\n",
       "\n",
       "    .dataframe tbody tr th {\n",
       "        vertical-align: top;\n",
       "    }\n",
       "\n",
       "    .dataframe thead th {\n",
       "        text-align: right;\n",
       "    }\n",
       "</style>\n",
       "<table border=\"1\" class=\"dataframe\">\n",
       "  <thead>\n",
       "    <tr style=\"text-align: right;\">\n",
       "      <th></th>\n",
       "      <th>store_name</th>\n",
       "      <th>code</th>\n",
       "      <th>product_ean</th>\n",
       "      <th>location</th>\n",
       "    </tr>\n",
       "  </thead>\n",
       "  <tbody>\n",
       "    <tr>\n",
       "      <th>0</th>\n",
       "      <td>Naushahra Virkan</td>\n",
       "      <td>PK</td>\n",
       "      <td>549792614465</td>\n",
       "      <td>Asia/Karachi</td>\n",
       "    </tr>\n",
       "    <tr>\n",
       "      <th>1</th>\n",
       "      <td>Mbalmayo</td>\n",
       "      <td>CM</td>\n",
       "      <td>6339088313356</td>\n",
       "      <td>Africa/Douala</td>\n",
       "    </tr>\n",
       "    <tr>\n",
       "      <th>2</th>\n",
       "      <td>San Juan de Aznalfarache</td>\n",
       "      <td>ES</td>\n",
       "      <td>3969263377809</td>\n",
       "      <td>Europe/Madrid</td>\n",
       "    </tr>\n",
       "    <tr>\n",
       "      <th>3</th>\n",
       "      <td>Patti</td>\n",
       "      <td>IN</td>\n",
       "      <td>4583643975165</td>\n",
       "      <td>Asia/Kolkata</td>\n",
       "    </tr>\n",
       "    <tr>\n",
       "      <th>4</th>\n",
       "      <td>Independence</td>\n",
       "      <td>US</td>\n",
       "      <td>4146270594774</td>\n",
       "      <td>America/Chicago</td>\n",
       "    </tr>\n",
       "  </tbody>\n",
       "</table>\n",
       "</div>"
      ],
      "text/plain": [
       "                 store_name code    product_ean         location\n",
       "0          Naushahra Virkan   PK   549792614465     Asia/Karachi\n",
       "1                  Mbalmayo   CM  6339088313356    Africa/Douala\n",
       "2  San Juan de Aznalfarache   ES  3969263377809    Europe/Madrid\n",
       "3                     Patti   IN  4583643975165     Asia/Kolkata\n",
       "4              Independence   US  4146270594774  America/Chicago"
      ]
     },
     "execution_count": 29,
     "metadata": {},
     "output_type": "execute_result"
    }
   ],
   "source": [
    "product = pd.read_csv(\"102/product.csv\", sep='\\t')\n",
    "product.head()"
   ]
  },
  {
   "cell_type": "markdown",
   "id": "05a44792",
   "metadata": {},
   "source": [
    "# User"
   ]
  },
  {
   "cell_type": "code",
   "execution_count": 30,
   "id": "3126db0a",
   "metadata": {},
   "outputs": [
    {
     "name": "stdout",
     "output_type": "stream",
     "text": [
      "<class 'pandas.core.frame.DataFrame'>\n",
      "RangeIndex: 2500 entries, 0 to 2499\n",
      "Data columns (total 11 columns):\n",
      " #   Column        Non-Null Count  Dtype \n",
      "---  ------        --------------  ----- \n",
      " 0   username      2500 non-null   object\n",
      " 1   residence     875 non-null    object\n",
      " 2   mail          2500 non-null   object\n",
      " 3   registration  2500 non-null   object\n",
      " 4   name          2500 non-null   object\n",
      " 5   race          750 non-null    object\n",
      " 6   user_id       2500 non-null   int64 \n",
      " 7   job           1000 non-null   object\n",
      " 8   birthdate     1375 non-null   object\n",
      " 9   sex           1250 non-null   object\n",
      " 10  address       2125 non-null   object\n",
      "dtypes: int64(1), object(10)\n",
      "memory usage: 215.0+ KB\n"
     ]
    }
   ],
   "source": [
    "user.info()"
   ]
  },
  {
   "cell_type": "code",
   "execution_count": 31,
   "id": "71e9a67c",
   "metadata": {},
   "outputs": [
    {
     "data": {
      "text/html": [
       "<div>\n",
       "<style scoped>\n",
       "    .dataframe tbody tr th:only-of-type {\n",
       "        vertical-align: middle;\n",
       "    }\n",
       "\n",
       "    .dataframe tbody tr th {\n",
       "        vertical-align: top;\n",
       "    }\n",
       "\n",
       "    .dataframe thead th {\n",
       "        text-align: right;\n",
       "    }\n",
       "</style>\n",
       "<table border=\"1\" class=\"dataframe\">\n",
       "  <thead>\n",
       "    <tr style=\"text-align: right;\">\n",
       "      <th></th>\n",
       "      <th>username</th>\n",
       "      <th>residence</th>\n",
       "      <th>mail</th>\n",
       "      <th>registration</th>\n",
       "      <th>name</th>\n",
       "      <th>race</th>\n",
       "      <th>user_id</th>\n",
       "      <th>job</th>\n",
       "      <th>birthdate</th>\n",
       "      <th>sex</th>\n",
       "      <th>address</th>\n",
       "    </tr>\n",
       "  </thead>\n",
       "  <tbody>\n",
       "    <tr>\n",
       "      <th>count</th>\n",
       "      <td>2500</td>\n",
       "      <td>875</td>\n",
       "      <td>2500</td>\n",
       "      <td>2500</td>\n",
       "      <td>2500</td>\n",
       "      <td>750</td>\n",
       "      <td>2500.000000</td>\n",
       "      <td>1000</td>\n",
       "      <td>1375</td>\n",
       "      <td>1250</td>\n",
       "      <td>2125</td>\n",
       "    </tr>\n",
       "    <tr>\n",
       "      <th>unique</th>\n",
       "      <td>2470</td>\n",
       "      <td>875</td>\n",
       "      <td>2497</td>\n",
       "      <td>2315</td>\n",
       "      <td>2441</td>\n",
       "      <td>5</td>\n",
       "      <td>NaN</td>\n",
       "      <td>590</td>\n",
       "      <td>1349</td>\n",
       "      <td>2</td>\n",
       "      <td>2125</td>\n",
       "    </tr>\n",
       "    <tr>\n",
       "      <th>top</th>\n",
       "      <td>takahashinaoko</td>\n",
       "      <td>Dobesweg 8\\n28115 Nabburg</td>\n",
       "      <td>mmatsumoto@hotmail.com</td>\n",
       "      <td>2019-08-03</td>\n",
       "      <td>高橋 あすか</td>\n",
       "      <td>unspecified</td>\n",
       "      <td>NaN</td>\n",
       "      <td>Krankenschwester</td>\n",
       "      <td>1959-03-20</td>\n",
       "      <td>F</td>\n",
       "      <td>USS Lara\\nFPO AE 54003</td>\n",
       "    </tr>\n",
       "    <tr>\n",
       "      <th>freq</th>\n",
       "      <td>3</td>\n",
       "      <td>1</td>\n",
       "      <td>2</td>\n",
       "      <td>3</td>\n",
       "      <td>3</td>\n",
       "      <td>208</td>\n",
       "      <td>NaN</td>\n",
       "      <td>9</td>\n",
       "      <td>3</td>\n",
       "      <td>642</td>\n",
       "      <td>1</td>\n",
       "    </tr>\n",
       "    <tr>\n",
       "      <th>mean</th>\n",
       "      <td>NaN</td>\n",
       "      <td>NaN</td>\n",
       "      <td>NaN</td>\n",
       "      <td>NaN</td>\n",
       "      <td>NaN</td>\n",
       "      <td>NaN</td>\n",
       "      <td>1253.484000</td>\n",
       "      <td>NaN</td>\n",
       "      <td>NaN</td>\n",
       "      <td>NaN</td>\n",
       "      <td>NaN</td>\n",
       "    </tr>\n",
       "    <tr>\n",
       "      <th>std</th>\n",
       "      <td>NaN</td>\n",
       "      <td>NaN</td>\n",
       "      <td>NaN</td>\n",
       "      <td>NaN</td>\n",
       "      <td>NaN</td>\n",
       "      <td>NaN</td>\n",
       "      <td>723.263951</td>\n",
       "      <td>NaN</td>\n",
       "      <td>NaN</td>\n",
       "      <td>NaN</td>\n",
       "      <td>NaN</td>\n",
       "    </tr>\n",
       "    <tr>\n",
       "      <th>min</th>\n",
       "      <td>NaN</td>\n",
       "      <td>NaN</td>\n",
       "      <td>NaN</td>\n",
       "      <td>NaN</td>\n",
       "      <td>NaN</td>\n",
       "      <td>NaN</td>\n",
       "      <td>0.000000</td>\n",
       "      <td>NaN</td>\n",
       "      <td>NaN</td>\n",
       "      <td>NaN</td>\n",
       "      <td>NaN</td>\n",
       "    </tr>\n",
       "    <tr>\n",
       "      <th>25%</th>\n",
       "      <td>NaN</td>\n",
       "      <td>NaN</td>\n",
       "      <td>NaN</td>\n",
       "      <td>NaN</td>\n",
       "      <td>NaN</td>\n",
       "      <td>NaN</td>\n",
       "      <td>621.000000</td>\n",
       "      <td>NaN</td>\n",
       "      <td>NaN</td>\n",
       "      <td>NaN</td>\n",
       "      <td>NaN</td>\n",
       "    </tr>\n",
       "    <tr>\n",
       "      <th>50%</th>\n",
       "      <td>NaN</td>\n",
       "      <td>NaN</td>\n",
       "      <td>NaN</td>\n",
       "      <td>NaN</td>\n",
       "      <td>NaN</td>\n",
       "      <td>NaN</td>\n",
       "      <td>1226.500000</td>\n",
       "      <td>NaN</td>\n",
       "      <td>NaN</td>\n",
       "      <td>NaN</td>\n",
       "      <td>NaN</td>\n",
       "    </tr>\n",
       "    <tr>\n",
       "      <th>75%</th>\n",
       "      <td>NaN</td>\n",
       "      <td>NaN</td>\n",
       "      <td>NaN</td>\n",
       "      <td>NaN</td>\n",
       "      <td>NaN</td>\n",
       "      <td>NaN</td>\n",
       "      <td>1894.250000</td>\n",
       "      <td>NaN</td>\n",
       "      <td>NaN</td>\n",
       "      <td>NaN</td>\n",
       "      <td>NaN</td>\n",
       "    </tr>\n",
       "    <tr>\n",
       "      <th>max</th>\n",
       "      <td>NaN</td>\n",
       "      <td>NaN</td>\n",
       "      <td>NaN</td>\n",
       "      <td>NaN</td>\n",
       "      <td>NaN</td>\n",
       "      <td>NaN</td>\n",
       "      <td>2499.000000</td>\n",
       "      <td>NaN</td>\n",
       "      <td>NaN</td>\n",
       "      <td>NaN</td>\n",
       "      <td>NaN</td>\n",
       "    </tr>\n",
       "  </tbody>\n",
       "</table>\n",
       "</div>"
      ],
      "text/plain": [
       "              username                  residence                    mail  \\\n",
       "count             2500                        875                    2500   \n",
       "unique            2470                        875                    2497   \n",
       "top     takahashinaoko  Dobesweg 8\\n28115 Nabburg  mmatsumoto@hotmail.com   \n",
       "freq                 3                          1                       2   \n",
       "mean               NaN                        NaN                     NaN   \n",
       "std                NaN                        NaN                     NaN   \n",
       "min                NaN                        NaN                     NaN   \n",
       "25%                NaN                        NaN                     NaN   \n",
       "50%                NaN                        NaN                     NaN   \n",
       "75%                NaN                        NaN                     NaN   \n",
       "max                NaN                        NaN                     NaN   \n",
       "\n",
       "       registration    name         race      user_id               job  \\\n",
       "count          2500    2500          750  2500.000000              1000   \n",
       "unique         2315    2441            5          NaN               590   \n",
       "top      2019-08-03  高橋 あすか  unspecified          NaN  Krankenschwester   \n",
       "freq              3       3          208          NaN                 9   \n",
       "mean            NaN     NaN          NaN  1253.484000               NaN   \n",
       "std             NaN     NaN          NaN   723.263951               NaN   \n",
       "min             NaN     NaN          NaN     0.000000               NaN   \n",
       "25%             NaN     NaN          NaN   621.000000               NaN   \n",
       "50%             NaN     NaN          NaN  1226.500000               NaN   \n",
       "75%             NaN     NaN          NaN  1894.250000               NaN   \n",
       "max             NaN     NaN          NaN  2499.000000               NaN   \n",
       "\n",
       "         birthdate   sex                 address  \n",
       "count         1375  1250                    2125  \n",
       "unique        1349     2                    2125  \n",
       "top     1959-03-20     F  USS Lara\\nFPO AE 54003  \n",
       "freq             3   642                       1  \n",
       "mean           NaN   NaN                     NaN  \n",
       "std            NaN   NaN                     NaN  \n",
       "min            NaN   NaN                     NaN  \n",
       "25%            NaN   NaN                     NaN  \n",
       "50%            NaN   NaN                     NaN  \n",
       "75%            NaN   NaN                     NaN  \n",
       "max            NaN   NaN                     NaN  "
      ]
     },
     "execution_count": 31,
     "metadata": {},
     "output_type": "execute_result"
    }
   ],
   "source": [
    "user.describe(include='all')"
   ]
  },
  {
   "cell_type": "code",
   "execution_count": 32,
   "id": "38326b37",
   "metadata": {},
   "outputs": [
    {
     "data": {
      "text/plain": [
       "count    1375.000000\n",
       "mean       58.162182\n",
       "std        33.991467\n",
       "min         0.000000\n",
       "25%        29.000000\n",
       "50%        58.000000\n",
       "75%        88.000000\n",
       "max       116.000000\n",
       "Name: age, dtype: float64"
      ]
     },
     "execution_count": 32,
     "metadata": {},
     "output_type": "execute_result"
    }
   ],
   "source": [
    "user['age'] = pd.Timestamp.now().year - pd.to_datetime(user['birthdate']).dt.year\n",
    "user['age'].describe()"
   ]
  },
  {
   "cell_type": "code",
   "execution_count": 33,
   "id": "a1ac90c0",
   "metadata": {},
   "outputs": [
    {
     "data": {
      "text/plain": [
       "sex\n",
       "F    51.36\n",
       "M    48.64\n",
       "Name: proportion, dtype: float64"
      ]
     },
     "execution_count": 33,
     "metadata": {},
     "output_type": "execute_result"
    }
   ],
   "source": [
    "user['sex'].value_counts(normalize=True) * 100"
   ]
  },
  {
   "cell_type": "code",
   "execution_count": 34,
   "id": "e81b83c9",
   "metadata": {},
   "outputs": [
    {
     "data": {
      "text/plain": [
       "username           0\n",
       "residence       1625\n",
       "mail               0\n",
       "registration       0\n",
       "name               0\n",
       "race            1750\n",
       "user_id            0\n",
       "job             1500\n",
       "birthdate       1125\n",
       "sex             1250\n",
       "address          375\n",
       "age             1125\n",
       "dtype: int64"
      ]
     },
     "execution_count": 34,
     "metadata": {},
     "output_type": "execute_result"
    }
   ],
   "source": [
    "user.isnull().sum()"
   ]
  },
  {
   "cell_type": "code",
   "execution_count": 35,
   "id": "079a6b9b",
   "metadata": {},
   "outputs": [
    {
     "data": {
      "text/plain": [
       "0"
      ]
     },
     "execution_count": 35,
     "metadata": {},
     "output_type": "execute_result"
    }
   ],
   "source": [
    "user.duplicated().sum()"
   ]
  },
  {
   "cell_type": "code",
   "execution_count": 36,
   "id": "bbc1b9bc",
   "metadata": {},
   "outputs": [
    {
     "data": {
      "text/plain": [
       "<Axes: ylabel='count'>"
      ]
     },
     "execution_count": 36,
     "metadata": {},
     "output_type": "execute_result"
    },
    {
     "data": {
      "image/png": "[encoded data removed]",
      "text/plain": [
       "<Figure size 640x480 with 1 Axes>"
      ]
     },
     "metadata": {},
     "output_type": "display_data"
    }
   ],
   "source": [
    "user['sex'].value_counts().plot(kind='pie', autopct='%1.1f%%')\n"
   ]
  },
  {
   "cell_type": "code",
   "execution_count": 37,
   "id": "0723d8aa",
   "metadata": {},
   "outputs": [
    {
     "data": {
      "text/plain": [
       "<Axes: xlabel='race'>"
      ]
     },
     "execution_count": 37,
     "metadata": {},
     "output_type": "execute_result"
    },
    {
     "data": {
      "image/png": "[encoded data removed]",
      "text/plain": [
       "<Figure size 640x480 with 1 Axes>"
      ]
     },
     "metadata": {},
     "output_type": "display_data"
    }
   ],
   "source": [
    "user['race'].value_counts().plot(kind='bar')"
   ]
  },
  {
   "cell_type": "code",
   "execution_count": 38,
   "id": "0c1c17ab",
   "metadata": {},
   "outputs": [
    {
     "data": {
      "text/plain": [
       "<Axes: xlabel='race'>"
      ]
     },
     "execution_count": 38,
     "metadata": {},
     "output_type": "execute_result"
    },
    {
     "data": {
      "image/png": "[encoded data removed]",
      "text/plain": [
       "<Figure size 640x480 with 1 Axes>"
      ]
     },
     "metadata": {},
     "output_type": "display_data"
    }
   ],
   "source": [
    "pd.crosstab(index=user[\"race\"], columns=user[\"sex\"]).plot.bar(stacked=True)"
   ]
  },
  {
   "cell_type": "code",
   "execution_count": 14,
   "id": "84e7c3ea",
   "metadata": {},
   "outputs": [
    {
     "data": {
      "text/plain": [
       "<Axes: xlabel='age', ylabel='Count'>"
      ]
     },
     "execution_count": 14,
     "metadata": {},
     "output_type": "execute_result"
    },
    {
     "data": {
      "image/png": "[encoded data removed]",
      "text/plain": [
       "<Figure size 640x480 with 1 Axes>"
      ]
     },
     "metadata": {},
     "output_type": "display_data"
    }
   ],
   "source": [
    "sns.histplot(user['age'])"
   ]
  },
  {
   "cell_type": "code",
   "execution_count": 15,
   "id": "f15c42a0",
   "metadata": {},
   "outputs": [
    {
     "data": {
      "text/plain": [
       "<Axes: xlabel='sex'>"
      ]
     },
     "execution_count": 15,
     "metadata": {},
     "output_type": "execute_result"
    },
    {
     "data": {
      "image/png": "[encoded data removed]",
      "text/plain": [
       "<Figure size 640x480 with 1 Axes>"
      ]
     },
     "metadata": {},
     "output_type": "display_data"
    }
   ],
   "source": [
    "pd.crosstab(user['sex'], user['race']).plot(kind='bar', stacked=True)"
   ]
  },
  {
   "cell_type": "code",
   "execution_count": 17,
   "id": "a5852e6a",
   "metadata": {},
   "outputs": [
    {
     "name": "stdout",
     "output_type": "stream",
     "text": [
      "username           0\n",
      "residence       1625\n",
      "mail               0\n",
      "registration       0\n",
      "name               0\n",
      "race            1750\n",
      "user_id            0\n",
      "job             1500\n",
      "birthdate       1125\n",
      "sex             1250\n",
      "address          375\n",
      "age             1125\n",
      "dtype: int64\n",
      "pct_input                         11\n",
      "user_id                            0\n",
      "pct_wild_mouse                    11\n",
      "pct_scroll_move                   11\n",
      "ack                                0\n",
      "screen_height                      0\n",
      "session_duration                   0\n",
      "mouse_move_total_rel_distance     11\n",
      "pct_rage_click                    11\n",
      "total_load_time                    0\n",
      "session_id                         0\n",
      "session_start                      0\n",
      "pct_click                         12\n",
      "pct_mouse_move                    12\n",
      "wild_mouse_duration               11\n",
      "pct_scrandom                      11\n",
      "page_activity_duration            11\n",
      "scroll_move_total_rel_distance    11\n",
      "pct_mouse_click                   11\n",
      "screen_width                       0\n",
      "browser_name                       0\n",
      "product_ean                        0\n",
      "pct_click_product_info            11\n",
      "pct_scroll_move_duration          12\n",
      "pct_doubleclick                   11\n",
      "dtype: int64\n",
      "store_name      0\n",
      "code           15\n",
      "product_ean     0\n",
      "location        0\n",
      "dtype: int64\n"
     ]
    }
   ],
   "source": [
    "print(user.isnull().sum())\n",
    "print(session.isnull().sum())\n",
    "print(product.isnull().sum())"
   ]
  },
  {
   "cell_type": "code",
   "execution_count": 19,
   "id": "31bfbaf3",
   "metadata": {},
   "outputs": [
    {
     "data": {
      "text/plain": [
       "0"
      ]
     },
     "execution_count": 19,
     "metadata": {},
     "output_type": "execute_result"
    }
   ],
   "source": [
    "user.duplicated().sum()\n",
    "session.duplicated().sum()\n",
    "product.duplicated().sum()\n"
   ]
  },
  {
   "cell_type": "code",
   "execution_count": null,
   "id": "91d6b891",
   "metadata": {},
   "outputs": [],
   "source": []
  }
 ],
 "metadata": {
  "kernelspec": {
   "display_name": "Python 3 (ipykernel)",
   "language": "python",
   "name": "python3"
  },
  "language_info": {
   "codemirror_mode": {
    "name": "ipython",
    "version": 3
   },
   "file_extension": ".py",
   "mimetype": "text/x-python",
   "name": "python",
   "nbconvert_exporter": "python",
   "pygments_lexer": "ipython3",
   "version": "3.11.5"
  }
 },
 "nbformat": 4,
 "nbformat_minor": 5
}
